{
 "cells": [
  {
   "cell_type": "code",
   "execution_count": 35,
   "id": "59a399db",
   "metadata": {},
   "outputs": [
    {
     "name": "stdout",
     "output_type": "stream",
     "text": [
      "Dataset 'assets/DiabetesData.csv' berhasil dimuat.\n",
      "     glucose  bloodpressure  diabetes\n",
      "0         40             85         0\n",
      "1         40             92         0\n",
      "2         45             63         1\n",
      "3         45             80         0\n",
      "4         40             73         1\n",
      "..       ...            ...       ...\n",
      "990       45             87         0\n",
      "991       40             83         0\n",
      "992       40             83         0\n",
      "993       40             60         1\n",
      "994       45             82         0\n",
      "\n",
      "[995 rows x 3 columns]\n"
     ]
    },
    {
     "data": {
      "image/png": "[encoded data removed]",
      "text/plain": [
       "<Figure size 640x480 with 1 Axes>"
      ]
     },
     "metadata": {},
     "output_type": "display_data"
    },
    {
     "data": {
      "image/png": "[encoded data removed]",
      "text/plain": [
       "<Figure size 640x480 with 1 Axes>"
      ]
     },
     "metadata": {},
     "output_type": "display_data"
    }
   ],
   "source": [
    "# ==============================================================================\n",
    "# SEL 1: PERSIAPAN DAN MEMUAT DATA\n",
    "# ==============================================================================\n",
    "import math\n",
    "import pandas as pd\n",
    "import matplotlib.pyplot as plt\n",
    "\n",
    "# --- Pastikan Anda sudah mengupload file CSV Anda ke sesi Colab ---\n",
    "# --- Ganti 'nama_dataset_anda.csv' dengan nama file Anda yang sebenarnya ---\n",
    "\n",
    "try:\n",
    "    nama_file = 'assets/DiabetesData.csv'\n",
    "    df = pd.read_csv(nama_file)\n",
    "\n",
    "    print(f\"Dataset '{nama_file}' berhasil dimuat.\")\n",
    "    print(df)\n",
    "    df['glucose'].plot(kind = 'hist')\n",
    "    plt.show()\n",
    "    df['bloodpressure'].plot(kind = 'hist')\n",
    "    plt.show()\n",
    "\n",
    "    # Memisahkan fitur (X) dan label (y) dari DataFrame\n",
    "    # Ganti nama kolom jika perlu agar sesuai dengan dataset Anda\n",
    "    X = df[['glucose', 'bloodpressure']]\n",
    "    y = df['diabetes']\n",
    "\n",
    "    # Mengonversi data ke format list yang akan digunakan oleh model kita\n",
    "    X_train = X.values.tolist()\n",
    "    y_train = y.tolist()\n",
    "\n",
    "except FileNotFoundError:\n",
    "    print(f\"Error: File '{nama_file}' tidak ditemukan!\")\n",
    "    print(\"Pastikan nama file sudah benar dan file sudah di-upload ke sesi Colab.\")"
   ]
  },
  {
   "cell_type": "code",
   "execution_count": 36,
   "id": "c1cd5ac1",
   "metadata": {},
   "outputs": [
    {
     "name": "stdout",
     "output_type": "stream",
     "text": [
      "Class GaussianNB berhasil didefinisikan.\n"
     ]
    }
   ],
   "source": [
    "# ==============================================================================\n",
    "# SEL 2: DEFINISI CLASS GAUSSIAN NAIVE BAYES\n",
    "# ==============================================================================\n",
    "\n",
    "class GaussianNB:\n",
    "    \"\"\"\n",
    "    Blueprint untuk algoritma Gaussian Naive Bayes.\n",
    "    Setiap bagian algoritma dijelaskan dalam fungsi di bawah ini.\n",
    "    \"\"\"\n",
    "\n",
    "    # --- BAGIAN 1: FASE PELATIHAN (MODEL BELAJAR) ---\n",
    "    def fit(self, X, y):\n",
    "        # Persiapan Awal\n",
    "        n_samples, n_features = len(X), len(X[0])\n",
    "        self.classes = list(set(y))\n",
    "\n",
    "        # Membuat \"Buku Catatan\" kosong\n",
    "        self.summaries = {}\n",
    "        self.priors = {}\n",
    "\n",
    "        # Memulai proses belajar untuk setiap kelas\n",
    "        for c in self.classes:\n",
    "            # Menyaring data untuk kelas yang sedang dipelajari\n",
    "            X_c = [X[i] for i in range(n_samples) if y[i] == c]\n",
    "\n",
    "            # Menghitung & mencatat Probabilitas Prior\n",
    "            self.priors[c] = len(X_c) / float(n_samples)\n",
    "\n",
    "            # Membuat halaman baru di buku catatan untuk kelas ini\n",
    "            self.summaries[c] = {}\n",
    "\n",
    "            # Mempelajari setiap fitur di dalam kelas ini\n",
    "            for i in range(n_features):\n",
    "                # Mengisolasi nilai untuk satu fitur\n",
    "                feature_values = [row[i] for row in X_c]\n",
    "\n",
    "                # Menghitung statistik\n",
    "                if len(feature_values) < 2:\n",
    "                    mean, stdev = 0, 0\n",
    "                else:\n",
    "                    mean = sum(feature_values) / float(len(feature_values))\n",
    "                    stdev = math.sqrt(sum([(x - mean)**2 for x in feature_values]) / float(len(feature_values) - 1))\n",
    "\n",
    "                # Mencatat hasil perhitungan statistik\n",
    "                self.summaries[c][i] = [mean, stdev]\n",
    "\n",
    "    # Di dalam class GaussianNB:\n",
    "    def _calculate_probability(self, x, mean, stdev):\n",
    "        # Penanganan kasus khusus\n",
    "        if stdev == 0:\n",
    "            return 1 if x == mean else 1e-9\n",
    "\n",
    "        # Implementasi rumus Gaussian PDF\n",
    "        exponent = math.exp(-((x - mean)**2 / (2 * stdev**2)))\n",
    "        return (1 / (math.sqrt(2 * math.pi) * stdev)) * exponent\n",
    "\n",
    "    # --- BAGIAN 3: FASE PREDIKSI (MODEL MENEBAK) ---\n",
    "    def predict(self, X):\n",
    "        \"\"\"Pintu masuk untuk memulai prediksi pada data baru.\"\"\"\n",
    "        return [self._predict_row(x) for x in X]\n",
    "\n",
    "    def _predict_row(self, x):\n",
    "        \"\"\"Melakukan prediksi untuk satu baris data.\"\"\"\n",
    "        posteriors = {}\n",
    "        for c in self.classes:\n",
    "            posteriors[c] = math.log(self.priors[c])\n",
    "            for i, feature_val in enumerate(x):\n",
    "                mean, stdev = self.summaries[c][i]\n",
    "                likelihood = self._calculate_probability(feature_val, mean, stdev)\n",
    "                posteriors[c] += math.log(likelihood)\n",
    "        return max(posteriors, key=posteriors.get)\n",
    "\n",
    "print(\"Class GaussianNB berhasil didefinisikan.\")"
   ]
  },
  {
   "cell_type": "code",
   "execution_count": 37,
   "id": "a1dcef3b",
   "metadata": {},
   "outputs": [
    {
     "name": "stdout",
     "output_type": "stream",
     "text": [
      "Model telah berhasil dilatih!\n",
      "------------------------------\n",
      "Statistik yang dipelajari oleh model:\n",
      "Probabilitas Prior (P(y)): {0: 0.4994974874371859, 1: 0.5005025125628141}\n",
      "Rata-rata & St. Deviasi (per kelas, per fitur):\n",
      "{\n",
      "    \"0\": {\n",
      "        \"0\": [\n",
      "            44.094567404426556,\n",
      "            3.700630758134117\n",
      "        ],\n",
      "        \"1\": [\n",
      "            86.738430583501,\n",
      "            4.590047959869425\n",
      "        ]\n",
      "    },\n",
      "    \"1\": {\n",
      "        \"0\": [\n",
      "            44.51807228915663,\n",
      "            8.730752022827115\n",
      "        ],\n",
      "        \"1\": [\n",
      "            71.64658634538152,\n",
      "            6.281427895952207\n",
      "        ]\n",
      "    }\n",
      "}\n"
     ]
    }
   ],
   "source": [
    "# ==============================================================================\n",
    "# SEL 3: MEMBUAT DAN MELATIH MODEL\n",
    "# ==============================================================================\n",
    "\n",
    "# Membuat instance (objek) dari class GaussianNB\n",
    "model = GaussianNB()\n",
    "\n",
    "# Melatih model menggunakan data training yang sudah disiapkan\n",
    "model.fit(X_train, y_train)\n",
    "\n",
    "print(\"Model telah berhasil dilatih!\")\n",
    "print(\"-\" * 30)\n",
    "print(\"Statistik yang dipelajari oleh model:\")\n",
    "print(\"Probabilitas Prior (P(y)):\", model.priors)\n",
    "print(\"Rata-rata & St. Deviasi (per kelas, per fitur):\")\n",
    "import json\n",
    "print(json.dumps(model.summaries, indent=4))"
   ]
  },
  {
   "cell_type": "code",
   "execution_count": 38,
   "id": "49c4dd09",
   "metadata": {},
   "outputs": [
    {
     "name": "stdout",
     "output_type": "stream",
     "text": [
      "Data baru: Glucose=30, BloodPressure=75\n",
      "------------------------------\n",
      "Hasil Prediksi: Pasien ini kemungkinan Menderita Diabetes (Kelas 1)\n"
     ]
    }
   ],
   "source": [
    "# ==============================================================================\n",
    "# SEL 4: MENGGUNAKAN MODEL UNTUK PREDIKSI\n",
    "# ==============================================================================\n",
    "\n",
    "# Siapkan data baru yang ingin diprediksi\n",
    "# Format: [[glucose, bloodpressure]]\n",
    "data_baru = [[30,75]]\n",
    "\n",
    "# Minta model yang sudah dilatih untuk membuat prediksi\n",
    "prediksi = model.predict(data_baru)\n",
    "hasil_prediksi = prediksi[0]\n",
    "\n",
    "# Tampilkan hasil prediksi dengan cara yang mudah dibaca\n",
    "print(f\"Data baru: Glucose={data_baru[0][0]}, BloodPressure={data_baru[0][1]}\")\n",
    "print(\"-\" * 30)\n",
    "if hasil_prediksi == 1:\n",
    "    print(\"Hasil Prediksi: Pasien ini kemungkinan Menderita Diabetes (Kelas 1)\")\n",
    "else:\n",
    "    print(\"Hasil Prediksi: Pasien ini kemungkinan Tidak Menderita Diabetes (Kelas 0)\")"
   ]
  },
  {
   "cell_type": "code",
   "execution_count": 39,
   "id": "251e8055",
   "metadata": {},
   "outputs": [
    {
     "name": "stdout",
     "output_type": "stream",
     "text": [
      "Membandingkan hasil prediksi model dengan label asli...\n",
      "Label Asli (y_train): [0, 0, 1, 0, 1, 0, 0, 1, 1, 0, 1, 0, 1, 0, 1, 1, 1, 1, 1, 1, 1, 0, 1, 0, 0, 1, 0, 0, 0, 1, 1, 1, 1, 0, 1, 1, 0, 1, 0, 0, 1, 1, 0, 0, 0, 0, 1, 1, 0, 0, 0, 0, 1, 1, 1, 0, 1, 0, 0, 1, 0, 1, 1, 1, 0, 0, 1, 0, 0, 0, 0, 0, 1, 0, 0, 1, 0, 0, 1, 1, 1, 0, 0, 0, 0, 1, 0, 0, 0, 1, 0, 1, 1, 1, 0, 0, 1, 0, 1, 0, 0, 0, 0, 1, 0, 0, 1, 1, 1, 0, 1, 0, 0, 1, 1, 0, 1, 1, 0, 1, 0, 0, 1, 1, 0, 1, 0, 1, 0, 0, 0, 1, 0, 0, 0, 1, 1, 1, 1, 0, 1, 0, 1, 0, 0, 0, 1, 0, 0, 1, 1, 0, 0, 1, 1, 0, 0, 0, 1, 0, 1, 1, 0, 0, 0, 1, 1, 1, 0, 0, 1, 0, 1, 0, 0, 0, 1, 0, 1, 0, 0, 0, 1, 1, 0, 1, 1, 0, 1, 1, 0, 0, 0, 1, 0, 0, 0, 0, 1, 1, 1, 1, 1, 0, 1, 0, 1, 0, 0, 1, 1, 1, 0, 0, 1, 0, 0, 0, 0, 0, 1, 0, 1, 0, 1, 0, 0, 0, 1, 1, 0, 0, 0, 0, 0, 0, 1, 1, 0, 0, 0, 1, 1, 0, 0, 1, 1, 1, 1, 1, 1, 1, 0, 1, 0, 1, 1, 0, 0, 0, 1, 1, 0, 0, 1, 1, 1, 0, 0, 0, 1, 0, 1, 1, 0, 1, 1, 0, 1, 0, 1, 1, 0, 1, 1, 1, 1, 1, 1, 1, 0, 1, 1, 0, 1, 1, 1, 1, 1, 1, 0, 1, 1, 0, 1, 0, 1, 1, 0, 0, 0, 1, 1, 1, 1, 0, 0, 0, 0, 1, 0, 1, 1, 0, 1, 1, 0, 1, 1, 1, 0, 1, 1, 0, 1, 1, 1, 0, 0, 0, 0, 0, 1, 0, 0, 0, 0, 1, 1, 1, 0, 1, 0, 0, 1, 0, 1, 0, 1, 0, 0, 1, 0, 0, 1, 0, 0, 1, 0, 1, 0, 1, 0, 1, 1, 1, 0, 1, 0, 1, 1, 1, 1, 0, 1, 1, 0, 1, 1, 0, 0, 1, 1, 0, 0, 1, 1, 1, 0, 1, 0, 0, 0, 1, 1, 0, 1, 0, 1, 0, 1, 1, 1, 0, 0, 1, 0, 0, 1, 0, 1, 0, 1, 0, 0, 1, 1, 0, 1, 0, 1, 1, 1, 1, 0, 0, 0, 1, 1, 0, 0, 1, 1, 1, 0, 0, 0, 0, 1, 0, 1, 1, 0, 0, 0, 0, 1, 0, 0, 0, 0, 0, 1, 0, 0, 1, 0, 0, 0, 0, 1, 1, 1, 0, 1, 1, 0, 1, 0, 1, 1, 0, 0, 1, 1, 1, 0, 0, 0, 1, 1, 1, 0, 1, 0, 1, 1, 1, 1, 1, 1, 1, 0, 1, 0, 1, 1, 0, 0, 0, 1, 1, 1, 0, 1, 1, 1, 1, 0, 1, 0, 0, 0, 0, 1, 1, 0, 1, 1, 1, 0, 1, 1, 1, 0, 1, 0, 1, 1, 1, 0, 1, 0, 1, 1, 0, 1, 0, 0, 1, 0, 1, 1, 0, 1, 0, 1, 0, 0, 0, 1, 1, 0, 1, 1, 0, 0, 1, 1, 0, 1, 1, 0, 0, 1, 0, 0, 0, 0, 0, 0, 1, 0, 0, 0, 0, 0, 1, 1, 0, 0, 1, 0, 1, 1, 0, 0, 1, 0, 1, 0, 1, 1, 1, 1, 1, 1, 0, 1, 0, 1, 0, 1, 1, 1, 1, 0, 0, 0, 1, 1, 1, 0, 1, 1, 0, 1, 1, 0, 0, 0, 1, 0, 0, 1, 0, 0, 0, 0, 0, 0, 1, 1, 1, 0, 0, 1, 0, 0, 0, 1, 1, 1, 0, 0, 1, 1, 0, 0, 0, 1, 0, 1, 1, 1, 0, 0, 1, 1, 1, 1, 0, 1, 1, 1, 1, 1, 1, 1, 0, 1, 1, 1, 1, 1, 0, 0, 0, 0, 0, 0, 1, 1, 1, 0, 1, 0, 1, 1, 0, 0, 1, 0, 1, 0, 0, 1, 0, 0, 0, 1, 0, 1, 1, 1, 0, 1, 0, 1, 1, 0, 0, 0, 1, 1, 1, 0, 1, 1, 1, 0, 0, 0, 0, 0, 1, 0, 0, 1, 1, 1, 0, 1, 1, 1, 0, 0, 0, 0, 1, 0, 1, 1, 1, 0, 0, 1, 1, 0, 1, 1, 1, 0, 0, 1, 1, 0, 1, 1, 1, 1, 1, 0, 0, 1, 0, 1, 1, 0, 0, 1, 0, 1, 1, 0, 0, 1, 0, 1, 1, 1, 0, 1, 1, 1, 0, 0, 0, 0, 0, 1, 0, 0, 1, 0, 0, 0, 1, 1, 0, 0, 1, 1, 1, 0, 1, 1, 1, 1, 1, 1, 0, 1, 0, 0, 1, 0, 0, 1, 1, 1, 1, 0, 0, 0, 1, 0, 0, 0, 1, 1, 0, 1, 0, 1, 0, 0, 0, 0, 0, 1, 1, 1, 1, 1, 0, 0, 1, 1, 0, 1, 0, 1, 0, 1, 0, 0, 0, 0, 0, 1, 0, 0, 1, 1, 0, 1, 0, 0, 0, 1, 0, 1, 1, 0, 0, 0, 1, 0, 0, 0, 0, 1, 0, 0, 0, 0, 0, 1, 1, 0, 0, 0, 0, 0, 0, 1, 1, 0, 0, 0, 1, 1, 0, 0, 1, 0, 1, 0, 0, 1, 0, 0, 0, 0, 0, 0, 0, 0, 1, 1, 1, 0, 1, 0, 1, 1, 0, 1, 0, 0, 1, 1, 1, 1, 0, 0, 1, 1, 1, 0, 0, 1, 0, 1, 1, 0, 1, 1, 0, 1, 1, 0, 0, 1, 0, 1, 1, 0, 0, 1, 1, 0, 1, 0, 0, 1, 0, 0, 1, 1, 1, 1, 1, 1, 1, 0, 0, 0, 1, 0, 0, 0, 1, 0]\n",
      "Hasil Prediksi (y_pred): [0, 0, 1, 0, 1, 0, 0, 1, 1, 0, 1, 0, 1, 0, 1, 1, 1, 1, 1, 0, 1, 0, 1, 0, 0, 1, 0, 0, 1, 1, 1, 1, 1, 0, 1, 1, 0, 1, 0, 0, 1, 1, 0, 1, 0, 0, 1, 1, 0, 0, 0, 0, 1, 1, 1, 0, 1, 0, 0, 1, 0, 1, 1, 1, 0, 0, 1, 0, 0, 0, 0, 0, 1, 0, 0, 1, 0, 0, 1, 1, 1, 0, 0, 0, 0, 1, 0, 0, 0, 1, 0, 1, 0, 1, 0, 0, 1, 0, 1, 0, 0, 0, 0, 1, 0, 0, 1, 1, 1, 0, 1, 0, 0, 1, 0, 0, 1, 1, 0, 1, 0, 0, 1, 1, 0, 1, 0, 1, 0, 0, 0, 1, 0, 0, 0, 1, 1, 1, 1, 0, 1, 0, 1, 0, 1, 0, 1, 0, 0, 1, 1, 0, 0, 1, 1, 0, 0, 0, 1, 0, 1, 1, 1, 1, 0, 1, 1, 1, 0, 0, 1, 0, 1, 0, 0, 0, 1, 0, 1, 0, 0, 0, 1, 1, 0, 1, 1, 0, 1, 1, 0, 0, 0, 1, 0, 0, 0, 0, 1, 1, 1, 1, 1, 0, 1, 0, 1, 0, 0, 1, 1, 1, 0, 0, 1, 0, 0, 0, 1, 1, 1, 0, 1, 0, 1, 0, 0, 0, 1, 1, 0, 0, 0, 0, 0, 0, 1, 1, 0, 0, 0, 1, 1, 0, 0, 1, 1, 1, 1, 1, 1, 1, 0, 1, 1, 1, 1, 1, 0, 0, 1, 1, 0, 0, 1, 1, 1, 0, 0, 0, 1, 0, 1, 1, 0, 1, 1, 0, 1, 0, 1, 1, 0, 1, 1, 1, 1, 1, 1, 1, 0, 1, 1, 0, 1, 1, 1, 1, 0, 1, 0, 1, 1, 0, 1, 0, 1, 1, 0, 0, 0, 1, 1, 1, 1, 0, 0, 1, 0, 1, 0, 1, 1, 0, 1, 1, 0, 0, 1, 1, 0, 1, 1, 0, 1, 1, 1, 0, 0, 0, 0, 0, 1, 0, 0, 0, 0, 1, 1, 1, 0, 1, 0, 0, 1, 0, 1, 0, 1, 0, 0, 1, 0, 0, 1, 0, 0, 1, 0, 1, 0, 1, 0, 1, 1, 1, 0, 1, 0, 1, 1, 1, 1, 0, 1, 1, 0, 1, 1, 0, 0, 1, 1, 0, 0, 1, 1, 1, 0, 1, 0, 0, 0, 1, 1, 0, 1, 0, 1, 0, 1, 1, 1, 0, 0, 1, 0, 0, 1, 1, 1, 0, 1, 0, 0, 1, 1, 0, 1, 0, 1, 1, 1, 1, 0, 0, 0, 1, 1, 0, 0, 1, 0, 1, 0, 0, 0, 0, 1, 0, 1, 1, 0, 0, 0, 0, 1, 0, 0, 0, 0, 0, 1, 0, 0, 1, 0, 0, 0, 0, 1, 1, 0, 0, 1, 1, 0, 0, 0, 1, 1, 0, 0, 1, 1, 1, 0, 0, 0, 1, 1, 1, 0, 1, 0, 1, 1, 1, 1, 1, 0, 1, 0, 1, 1, 1, 1, 0, 0, 0, 1, 1, 1, 0, 1, 1, 1, 1, 0, 1, 0, 0, 1, 0, 1, 1, 0, 1, 1, 1, 0, 1, 1, 1, 0, 1, 0, 1, 1, 1, 1, 1, 0, 0, 1, 0, 0, 0, 0, 1, 1, 1, 1, 0, 1, 0, 1, 0, 0, 0, 1, 1, 0, 1, 1, 1, 0, 1, 1, 0, 1, 0, 0, 0, 0, 0, 1, 0, 0, 0, 0, 0, 0, 0, 0, 0, 0, 1, 1, 0, 0, 1, 0, 1, 1, 1, 0, 1, 1, 1, 0, 1, 1, 1, 1, 1, 1, 0, 1, 0, 1, 0, 1, 1, 1, 1, 0, 0, 0, 1, 1, 1, 0, 1, 1, 0, 1, 1, 0, 0, 0, 1, 1, 0, 1, 0, 0, 0, 0, 0, 0, 1, 0, 1, 0, 0, 1, 0, 0, 0, 1, 1, 1, 0, 0, 1, 1, 0, 0, 0, 0, 0, 1, 1, 1, 0, 0, 1, 1, 1, 1, 1, 1, 1, 1, 1, 1, 0, 1, 0, 1, 0, 1, 1, 1, 0, 0, 0, 0, 0, 0, 0, 0, 1, 0, 1, 0, 1, 1, 0, 0, 1, 0, 1, 0, 0, 0, 0, 0, 0, 0, 0, 0, 1, 1, 0, 1, 1, 1, 1, 1, 0, 0, 1, 1, 1, 0, 1, 1, 1, 0, 0, 0, 0, 0, 1, 0, 0, 1, 1, 1, 1, 1, 1, 1, 0, 0, 0, 0, 1, 0, 1, 0, 0, 0, 0, 1, 1, 0, 1, 0, 1, 0, 0, 1, 1, 0, 1, 1, 1, 1, 1, 0, 0, 0, 0, 1, 1, 0, 0, 1, 0, 1, 1, 0, 0, 1, 0, 1, 1, 1, 0, 1, 1, 1, 1, 0, 0, 0, 0, 1, 0, 0, 1, 0, 0, 0, 1, 1, 0, 0, 1, 1, 1, 0, 1, 1, 0, 1, 1, 1, 1, 1, 0, 0, 1, 0, 0, 1, 1, 1, 1, 1, 0, 0, 1, 0, 0, 0, 1, 1, 0, 1, 0, 1, 0, 0, 0, 0, 0, 1, 1, 1, 1, 1, 0, 0, 1, 0, 0, 1, 0, 1, 0, 1, 0, 0, 0, 0, 0, 1, 0, 0, 1, 1, 0, 1, 0, 0, 0, 1, 0, 1, 1, 0, 1, 0, 1, 0, 0, 0, 0, 1, 0, 0, 0, 1, 0, 1, 1, 0, 0, 0, 0, 0, 0, 1, 0, 0, 0, 1, 1, 1, 0, 0, 1, 0, 1, 0, 0, 1, 0, 0, 0, 0, 1, 0, 0, 0, 1, 1, 1, 0, 1, 0, 1, 1, 0, 1, 0, 0, 1, 1, 1, 1, 0, 0, 1, 1, 1, 1, 0, 1, 1, 1, 1, 0, 1, 0, 0, 1, 1, 0, 0, 1, 0, 1, 1, 0, 0, 1, 1, 0, 1, 1, 0, 1, 0, 0, 0, 1, 1, 1, 1, 1, 1, 0, 0, 0, 1, 0, 0, 0, 1, 0]\n",
      "------------------------------\n",
      "Hasil Perhitungan Confusion Matrix:\n",
      "True Positives (TP):  466\n",
      "True Negatives (TN):  463\n",
      "False Positives (FP): 34  <-- Kesalahan Tipe I (Alarm Palsu)\n",
      "False Negatives (FN): 32  <-- Kesalahan Tipe II (Meleset)\n",
      "------------------------------\n",
      "Metrik Evaluasi Kinerja Model:\n",
      "Akurasi: 93.37%\n",
      "Presisi: 93.20%\n",
      "Recall: 93.57%\n",
      "F1-Score: 93.39%\n"
     ]
    }
   ],
   "source": [
    "# ==============================================================================\n",
    "# SEL 5: EVALUASI KINERJA MODEL\n",
    "# ==============================================================================\n",
    "\n",
    "# Langkah 1: Gunakan model yang sudah dilatih untuk membuat prediksi\n",
    "# pada seluruh data latih (X_train)\n",
    "y_pred = model.predict(X_train)\n",
    "\n",
    "print(\"Membandingkan hasil prediksi model dengan label asli...\")\n",
    "print(\"Label Asli (y_train):\", y_train)\n",
    "print(\"Hasil Prediksi (y_pred):\", y_pred)\n",
    "print(\"-\" * 30)\n",
    "\n",
    "\n",
    "# Langkah 2: Hitung komponen Confusion Matrix (TP, TN, FP, FN)\n",
    "# Kita akan melakukannya dari nol tanpa library\n",
    "tp = 0  # True Positive\n",
    "tn = 0  # True Negative\n",
    "fp = 0  # False Positive\n",
    "fn = 0  # False Negative\n",
    "\n",
    "# Kelas positif kita adalah 1 (Diabetes)\n",
    "positive_class = 1\n",
    "\n",
    "for i in range(len(y_train)):\n",
    "    actual = y_train[i]\n",
    "    predicted = y_pred[i]\n",
    "\n",
    "    if predicted == positive_class and actual == positive_class:\n",
    "        tp += 1\n",
    "    elif predicted != positive_class and actual != positive_class:\n",
    "        tn += 1\n",
    "    elif predicted == positive_class and actual != positive_class:\n",
    "        fp += 1\n",
    "    elif predicted != positive_class and actual == positive_class:\n",
    "        fn += 1\n",
    "\n",
    "# Langkah 3: Tampilkan hasil dalam bentuk Confusion Matrix\n",
    "print(\"Hasil Perhitungan Confusion Matrix:\")\n",
    "print(f\"True Positives (TP):  {tp}\")\n",
    "print(f\"True Negatives (TN):  {tn}\")\n",
    "print(f\"False Positives (FP): {fp}  <-- Kesalahan Tipe I (Alarm Palsu)\")\n",
    "print(f\"False Negatives (FN): {fn}  <-- Kesalahan Tipe II (Meleset)\")\n",
    "print(\"-\" * 30)\n",
    "\n",
    "# Langkah 4: Hitung Metrik Evaluasi\n",
    "print(\"Metrik Evaluasi Kinerja Model:\")\n",
    "\n",
    "# Akurasi: (TP + TN) / Total\n",
    "# berapa persen tebakan model yang benar\n",
    "total_samples = tp + tn + fp + fn\n",
    "akurasi = (tp + tn) / total_samples\n",
    "print(f\"Akurasi: {akurasi:.2%}\")\n",
    "\n",
    "# Presisi: TP / (TP + FP)\n",
    "# Menghindari pembagian dengan nol\n",
    "# Dari semua yang kita prediksi sebagai 'Positif' (Diabetes), berapa persen yang sebenarnya memang Positif?\n",
    "if (tp + fp) > 0:\n",
    "    presisi = tp / (tp + fp)\n",
    "    print(f\"Presisi: {presisi:.2%}\")\n",
    "else:\n",
    "    print(\"Presisi: N/A (Tidak ada prediksi positif)\")\n",
    "\n",
    "# Recall (Sensitivity): TP / (TP + FN)\n",
    "# Dari semua yang sebenarnya 'Positif' (Diabetes), berapa persen yang berhasil ditemukan oleh model kita?\n",
    "if (tp + fn) > 0:\n",
    "    recall = tp / (tp + fn)\n",
    "    print(f\"Recall: {recall:.2%}\")\n",
    "else:\n",
    "    print(\"Recall: N/A (Tidak ada sampel positif aktual)\")\n",
    "\n",
    "# F1-Score: 2 * (Presisi * Recall) / (Presisi + Recall)\n",
    "if 'presisi' in locals() and 'recall' in locals() and (presisi + recall) > 0:\n",
    "    f1_score = 2 * (presisi * recall) / (presisi + recall)\n",
    "    print(f\"F1-Score: {f1_score:.2%}\")\n",
    "else:\n",
    "    print(\"F1-Score: N/A\")"
   ]
  },
  {
   "cell_type": "code",
   "execution_count": 45,
   "id": "4c437c26",
   "metadata": {},
   "outputs": [
    {
     "data": {
      "text/plain": [
       "['model.pkl']"
      ]
     },
     "execution_count": 45,
     "metadata": {},
     "output_type": "execute_result"
    }
   ],
   "source": [
    "# train_and_save.py\n",
    "from sklearn.naive_bayes import GaussianNB\n",
    "import joblib\n",
    "\n",
    "model.fit(X_train,y_train)\n",
    "\n",
    "joblib.dump(model, \"model.pkl\")\n"
   ]
  }
 ],
 "metadata": {
  "kernelspec": {
   "display_name": ".venv",
   "language": "python",
   "name": "python3"
  },
  "language_info": {
   "codemirror_mode": {
    "name": "ipython",
    "version": 3
   },
   "file_extension": ".py",
   "mimetype": "text/x-python",
   "name": "python",
   "nbconvert_exporter": "python",
   "pygments_lexer": "ipython3",
   "version": "3.12.3"
  }
 },
 "nbformat": 4,
 "nbformat_minor": 5
}
